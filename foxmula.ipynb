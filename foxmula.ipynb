{
  "nbformat": 4,
  "nbformat_minor": 0,
  "metadata": {
    "colab": {
      "name": "foxmula.ipynb",
      "provenance": [],
      "authorship_tag": "ABX9TyNoNx1f7vC/Sbn13hBtRk5m",
      "include_colab_link": true
    },
    "kernelspec": {
      "name": "python3",
      "display_name": "Python 3"
    },
    "language_info": {
      "name": "python"
    }
  },
  "cells": [
    {
      "cell_type": "markdown",
      "metadata": {
        "id": "view-in-github",
        "colab_type": "text"
      },
      "source": [
        "<a href=\"https://colab.research.google.com/github/T-janhavi11/JPM/blob/master/foxmula.ipynb\" target=\"_parent\"><img src=\"https://colab.research.google.com/assets/colab-badge.svg\" alt=\"Open In Colab\"/></a>"
      ]
    },
    {
      "cell_type": "code",
      "metadata": {
        "id": "BXOAnGnhsBqH"
      },
      "source": [
        "import numpy as np \n",
        "import pandas as pd\n",
        "import tensorflow as tf\n",
        "from tensorflow import keras\n",
        "import matplotlib.pyplot as plt\n",
        "%matplotlib inline\n",
        "import numpy as np"
      ],
      "execution_count": 1,
      "outputs": []
    },
    {
      "cell_type": "code",
      "metadata": {
        "colab": {
          "base_uri": "https://localhost:8080/"
        },
        "id": "Elj1FfjTsQ6S",
        "outputId": "e4fb025c-fb10-4881-b574-17a2b2cd3cfe"
      },
      "source": [
        "#loading the handwritten icons dataset\n",
        "(X_train, y_train) , (X_test, y_test) = keras.datasets.mnist.load_data()\n",
        "print(len(X_train))\n",
        "print(len(X_test))"
      ],
      "execution_count": 2,
      "outputs": [
        {
          "output_type": "stream",
          "text": [
            "Downloading data from https://storage.googleapis.com/tensorflow/tf-keras-datasets/mnist.npz\n",
            "11493376/11490434 [==============================] - 0s 0us/step\n",
            "60000\n",
            "10000\n"
          ],
          "name": "stdout"
        }
      ]
    },
    {
      "cell_type": "code",
      "metadata": {
        "colab": {
          "base_uri": "https://localhost:8080/"
        },
        "id": "kpIAR3MrsZHr",
        "outputId": "287b33c5-0adc-483b-b4cd-ffa082c793a9"
      },
      "source": [
        "# if we consider 6th element from the dataset\n",
        "print(X_train[5])\n",
        "\n",
        "print(\"dimension for train set: \")\n",
        "print(X_train[5].shape)"
      ],
      "execution_count": 3,
      "outputs": [
        {
          "output_type": "stream",
          "text": [
            "[[  0   0   0   0   0   0   0   0   0   0   0   0   0   0   0   0   0   0\n",
            "    0   0   0   0   0   0   0   0   0   0]\n",
            " [  0   0   0   0   0   0   0   0   0   0   0   0   0   0   0   0   0   0\n",
            "    0   0   0   0   0   0   0   0   0   0]\n",
            " [  0   0   0   0   0   0   0   0   0   0   0   0   0   0   0   0   0   0\n",
            "    0   0   0   0   0   0   0   0   0   0]\n",
            " [  0   0   0   0   0   0   0   0   0   0   0   0   0   0   0   0   0   0\n",
            "    0   0   0   0   0   0   0   0   0   0]\n",
            " [  0   0   0   0   0   0   0   0   0   0   0   0   0   0   0   0   0   0\n",
            "    0   0   0   0   0   0   0   0   0   0]\n",
            " [  0   0   0   0   0   0   0   0   0   0   0   0   0   0   0  13  25 100\n",
            "  122   7   0   0   0   0   0   0   0   0]\n",
            " [  0   0   0   0   0   0   0   0   0   0   0   0   0  33 151 208 252 252\n",
            "  252 146   0   0   0   0   0   0   0   0]\n",
            " [  0   0   0   0   0   0   0   0   0   0   0  40 152 244 252 253 224 211\n",
            "  252 232  40   0   0   0   0   0   0   0]\n",
            " [  0   0   0   0   0   0   0   0   0  15 152 239 252 252 252 216  31  37\n",
            "  252 252  60   0   0   0   0   0   0   0]\n",
            " [  0   0   0   0   0   0   0   0   0  96 252 252 252 252 217  29   0  37\n",
            "  252 252  60   0   0   0   0   0   0   0]\n",
            " [  0   0   0   0   0   0   0   0   0 181 252 252 220 167  30   0   0  77\n",
            "  252 252  60   0   0   0   0   0   0   0]\n",
            " [  0   0   0   0   0   0   0   0   0  26 128  58  22   0   0   0   0 100\n",
            "  252 252  60   0   0   0   0   0   0   0]\n",
            " [  0   0   0   0   0   0   0   0   0   0   0   0   0   0   0   0   0 157\n",
            "  252 252  60   0   0   0   0   0   0   0]\n",
            " [  0   0   0   0   0   0   0   0   0   0   0   0   0 110 121 122 121 202\n",
            "  252 194   3   0   0   0   0   0   0   0]\n",
            " [  0   0   0   0   0   0   0   0   0   0  10  53 179 253 253 255 253 253\n",
            "  228  35   0   0   0   0   0   0   0   0]\n",
            " [  0   0   0   0   0   0   0   0   5  54 227 252 243 228 170 242 252 252\n",
            "  231 117   6   0   0   0   0   0   0   0]\n",
            " [  0   0   0   0   0   0   0   6  78 252 252 125  59   0  18 208 252 252\n",
            "  252 252  87   7   0   0   0   0   0   0]\n",
            " [  0   0   0   0   0   0   5 135 252 252 180  16   0  21 203 253 247 129\n",
            "  173 252 252 184  66  49  49   0   0   0]\n",
            " [  0   0   0   0   0   3 136 252 241 106  17   0  53 200 252 216  65   0\n",
            "   14  72 163 241 252 252 223   0   0   0]\n",
            " [  0   0   0   0   0 105 252 242  88  18  73 170 244 252 126  29   0   0\n",
            "    0   0   0  89 180 180  37   0   0   0]\n",
            " [  0   0   0   0   0 231 252 245 205 216 252 252 252 124   3   0   0   0\n",
            "    0   0   0   0   0   0   0   0   0   0]\n",
            " [  0   0   0   0   0 207 252 252 252 252 178 116  36   4   0   0   0   0\n",
            "    0   0   0   0   0   0   0   0   0   0]\n",
            " [  0   0   0   0   0  13  93 143 121  23   6   0   0   0   0   0   0   0\n",
            "    0   0   0   0   0   0   0   0   0   0]\n",
            " [  0   0   0   0   0   0   0   0   0   0   0   0   0   0   0   0   0   0\n",
            "    0   0   0   0   0   0   0   0   0   0]\n",
            " [  0   0   0   0   0   0   0   0   0   0   0   0   0   0   0   0   0   0\n",
            "    0   0   0   0   0   0   0   0   0   0]\n",
            " [  0   0   0   0   0   0   0   0   0   0   0   0   0   0   0   0   0   0\n",
            "    0   0   0   0   0   0   0   0   0   0]\n",
            " [  0   0   0   0   0   0   0   0   0   0   0   0   0   0   0   0   0   0\n",
            "    0   0   0   0   0   0   0   0   0   0]\n",
            " [  0   0   0   0   0   0   0   0   0   0   0   0   0   0   0   0   0   0\n",
            "    0   0   0   0   0   0   0   0   0   0]]\n",
            "dimension for train set: \n",
            "(28, 28)\n"
          ],
          "name": "stdout"
        }
      ]
    },
    {
      "cell_type": "code",
      "metadata": {
        "colab": {
          "base_uri": "https://localhost:8080/",
          "height": 292
        },
        "id": "JZMF6QuQtRiw",
        "outputId": "f9fb3df4-becc-4cfb-8892-d6990ac6e17c"
      },
      "source": [
        "#picture the element\n",
        "plt.matshow(X_train[5])"
      ],
      "execution_count": 4,
      "outputs": [
        {
          "output_type": "execute_result",
          "data": {
            "text/plain": [
              "<matplotlib.image.AxesImage at 0x7f940b2784d0>"
            ]
          },
          "metadata": {
            "tags": []
          },
          "execution_count": 4
        },
        {
          "output_type": "display_data",
          "data": {
            "image/png": "[encoded data removed]",
            "text/plain": [
              "<Figure size 288x288 with 1 Axes>"
            ]
          },
          "metadata": {
            "tags": [],
            "needs_background": "light"
          }
        }
      ]
    },
    {
      "cell_type": "code",
      "metadata": {
        "colab": {
          "base_uri": "https://localhost:8080/"
        },
        "id": "V69dR_h-tpLO",
        "outputId": "5ce31b26-e556-45c6-bb91-29c698fb66ef"
      },
      "source": [
        "#checking the value\n",
        "y_train[5]"
      ],
      "execution_count": 5,
      "outputs": [
        {
          "output_type": "execute_result",
          "data": {
            "text/plain": [
              "2"
            ]
          },
          "metadata": {
            "tags": []
          },
          "execution_count": 5
        }
      ]
    },
    {
      "cell_type": "code",
      "metadata": {
        "colab": {
          "base_uri": "https://localhost:8080/"
        },
        "id": "UXB7UL79tzpA",
        "outputId": "0c450ae5-910f-4ea1-cac8-af379b17ea91"
      },
      "source": [
        "X_train = X_train / 255\n",
        "X_test = X_test / 255\n",
        "\n",
        "\n",
        "#reshaping\n",
        "X_train_flattened = X_train.reshape(len(X_train), 28*28)\n",
        "X_test_flattened = X_test.reshape(len(X_test), 28*28)\n",
        "X_train_flattened.shape"
      ],
      "execution_count": 6,
      "outputs": [
        {
          "output_type": "execute_result",
          "data": {
            "text/plain": [
              "(60000, 784)"
            ]
          },
          "metadata": {
            "tags": []
          },
          "execution_count": 6
        }
      ]
    },
    {
      "cell_type": "code",
      "metadata": {
        "colab": {
          "base_uri": "https://localhost:8080/"
        },
        "id": "LhP4LJPot-bF",
        "outputId": "1eef7b90-282f-4948-bd99-78439e3fd67a"
      },
      "source": [
        "#Defining and fiting model\n",
        "model = keras.Sequential([\n",
        "    keras.layers.Dense(10, input_shape=(784,), activation='sigmoid')\n",
        "])\n",
        "\n",
        "model.compile(optimizer='adam',\n",
        "              loss='sparse_categorical_crossentropy',\n",
        "              metrics=['accuracy'])\n",
        "\n",
        "model.fit(X_train_flattened, y_train, epochs=20)"
      ],
      "execution_count": 7,
      "outputs": [
        {
          "output_type": "stream",
          "text": [
            "Epoch 1/20\n",
            "1875/1875 [==============================] - 3s 1ms/step - loss: 0.4763 - accuracy: 0.8751\n",
            "Epoch 2/20\n",
            "1875/1875 [==============================] - 3s 1ms/step - loss: 0.3044 - accuracy: 0.9143\n",
            "Epoch 3/20\n",
            "1875/1875 [==============================] - 3s 1ms/step - loss: 0.2839 - accuracy: 0.9208\n",
            "Epoch 4/20\n",
            "1875/1875 [==============================] - 3s 1ms/step - loss: 0.2732 - accuracy: 0.9239\n",
            "Epoch 5/20\n",
            "1875/1875 [==============================] - 2s 1ms/step - loss: 0.2668 - accuracy: 0.9258\n",
            "Epoch 6/20\n",
            "1875/1875 [==============================] - 3s 1ms/step - loss: 0.2617 - accuracy: 0.9271\n",
            "Epoch 7/20\n",
            "1875/1875 [==============================] - 3s 1ms/step - loss: 0.2585 - accuracy: 0.9286\n",
            "Epoch 8/20\n",
            "1875/1875 [==============================] - 3s 1ms/step - loss: 0.2554 - accuracy: 0.9292\n",
            "Epoch 9/20\n",
            "1875/1875 [==============================] - 3s 1ms/step - loss: 0.2529 - accuracy: 0.9297\n",
            "Epoch 10/20\n",
            "1875/1875 [==============================] - 2s 1ms/step - loss: 0.2517 - accuracy: 0.9300\n",
            "Epoch 11/20\n",
            "1875/1875 [==============================] - 3s 1ms/step - loss: 0.2493 - accuracy: 0.9315\n",
            "Epoch 12/20\n",
            "1875/1875 [==============================] - 3s 1ms/step - loss: 0.2475 - accuracy: 0.9315\n",
            "Epoch 13/20\n",
            "1875/1875 [==============================] - 3s 1ms/step - loss: 0.2464 - accuracy: 0.9318\n",
            "Epoch 14/20\n",
            "1875/1875 [==============================] - 2s 1ms/step - loss: 0.2448 - accuracy: 0.9327\n",
            "Epoch 15/20\n",
            "1875/1875 [==============================] - 3s 1ms/step - loss: 0.2442 - accuracy: 0.9328\n",
            "Epoch 16/20\n",
            "1875/1875 [==============================] - 3s 1ms/step - loss: 0.2429 - accuracy: 0.9333\n",
            "Epoch 17/20\n",
            "1875/1875 [==============================] - 3s 1ms/step - loss: 0.2421 - accuracy: 0.9331\n",
            "Epoch 18/20\n",
            "1875/1875 [==============================] - 2s 1ms/step - loss: 0.2410 - accuracy: 0.9334\n",
            "Epoch 19/20\n",
            "1875/1875 [==============================] - 3s 1ms/step - loss: 0.2403 - accuracy: 0.9340\n",
            "Epoch 20/20\n",
            "1875/1875 [==============================] - 5s 2ms/step - loss: 0.2400 - accuracy: 0.9336\n"
          ],
          "name": "stdout"
        },
        {
          "output_type": "execute_result",
          "data": {
            "text/plain": [
              "<tensorflow.python.keras.callbacks.History at 0x7f940bf459d0>"
            ]
          },
          "metadata": {
            "tags": []
          },
          "execution_count": 7
        }
      ]
    },
    {
      "cell_type": "code",
      "metadata": {
        "colab": {
          "base_uri": "https://localhost:8080/"
        },
        "id": "M4xqwb-kuie9",
        "outputId": "b9d69f55-29d3-4430-eaf1-4c5f2c539785"
      },
      "source": [
        "#evaluating our model\n",
        "model.evaluate(X_test_flattened, y_test)"
      ],
      "execution_count": 8,
      "outputs": [
        {
          "output_type": "stream",
          "text": [
            "313/313 [==============================] - 0s 1ms/step - loss: 0.2672 - accuracy: 0.9277\n"
          ],
          "name": "stdout"
        },
        {
          "output_type": "execute_result",
          "data": {
            "text/plain": [
              "[0.26721033453941345, 0.9276999831199646]"
            ]
          },
          "metadata": {
            "tags": []
          },
          "execution_count": 8
        }
      ]
    },
    {
      "cell_type": "code",
      "metadata": {
        "colab": {
          "base_uri": "https://localhost:8080/"
        },
        "id": "Cw3Anm10uo-8",
        "outputId": "0a04853a-6d01-4401-fd70-a129d9db7e75"
      },
      "source": [
        "y_predicted = model.predict(X_test_flattened)\n",
        "y_predicted[5]"
      ],
      "execution_count": 9,
      "outputs": [
        {
          "output_type": "execute_result",
          "data": {
            "text/plain": [
              "array([1.0168229e-05, 9.9912083e-01, 5.3337747e-01, 3.0448580e-01,\n",
              "       2.8716028e-03, 2.0173550e-02, 4.4569969e-03, 7.4635625e-01,\n",
              "       4.5999593e-01, 1.2201348e-01], dtype=float32)"
            ]
          },
          "metadata": {
            "tags": []
          },
          "execution_count": 9
        }
      ]
    },
    {
      "cell_type": "code",
      "metadata": {
        "colab": {
          "base_uri": "https://localhost:8080/",
          "height": 292
        },
        "id": "8XQ2MiQ0uwLE",
        "outputId": "9faf0f27-14cd-4081-b0d4-96f4a1dd8398"
      },
      "source": [
        "# testing on other 5th element in test set\n",
        "plt.matshow(X_test[5])"
      ],
      "execution_count": 10,
      "outputs": [
        {
          "output_type": "execute_result",
          "data": {
            "text/plain": [
              "<matplotlib.image.AxesImage at 0x7f9406c80bd0>"
            ]
          },
          "metadata": {
            "tags": []
          },
          "execution_count": 10
        },
        {
          "output_type": "display_data",
          "data": {
            "image/png": "[encoded data removed]",
            "text/plain": [
              "<Figure size 288x288 with 1 Axes>"
            ]
          },
          "metadata": {
            "tags": [],
            "needs_background": "light"
          }
        }
      ]
    },
    {
      "cell_type": "code",
      "metadata": {
        "id": "gIQL8F0Au2Vv",
        "colab": {
          "base_uri": "https://localhost:8080/"
        },
        "outputId": "63cdaee9-f71f-472d-c576-63ad2e34e7d5"
      },
      "source": [
        "np.argmax(y_predicted[5])"
      ],
      "execution_count": 12,
      "outputs": [
        {
          "output_type": "execute_result",
          "data": {
            "text/plain": [
              "1"
            ]
          },
          "metadata": {
            "tags": []
          },
          "execution_count": 12
        }
      ]
    },
    {
      "cell_type": "code",
      "metadata": {
        "colab": {
          "base_uri": "https://localhost:8080/"
        },
        "id": "STJSItUkMKKq",
        "outputId": "a4db9e9e-eaf7-44cb-d689-e90a06fbd56f"
      },
      "source": [
        "#checking the predicted values array\n",
        "y_predicted_labels = [np.argmax(i) for i in y_predicted]\n",
        "y_predicted_labels[:10]"
      ],
      "execution_count": 15,
      "outputs": [
        {
          "output_type": "execute_result",
          "data": {
            "text/plain": [
              "[7, 2, 1, 0, 4, 1, 4, 9, 6, 9]"
            ]
          },
          "metadata": {
            "tags": []
          },
          "execution_count": 15
        }
      ]
    },
    {
      "cell_type": "code",
      "metadata": {
        "colab": {
          "base_uri": "https://localhost:8080/"
        },
        "id": "rfGzoQXyMb45",
        "outputId": "0b1fc601-2a64-42f8-a29a-399297510795"
      },
      "source": [
        "confm = tf.math.confusion_matrix(labels=y_test,predictions=y_predicted_labels)\n",
        "print(confm)"
      ],
      "execution_count": 16,
      "outputs": [
        {
          "output_type": "stream",
          "text": [
            "tf.Tensor(\n",
            "[[ 957    0    2    2    0    5   10    3    1    0]\n",
            " [   0 1118    3    1    0    1    4    2    6    0]\n",
            " [   4    9  940   10    9    3   15   10   29    3]\n",
            " [   3    0   25  912    1   24    4   10   25    6]\n",
            " [   1    1    7    2  920    0   10    5   10   26]\n",
            " [  10    3    2   29    9  780   18    8   30    3]\n",
            " [   7    3    6    1    7    9  922    1    2    0]\n",
            " [   1    7   25    5    6    1    0  948    2   33]\n",
            " [   9   13    6   18    8   23   14   10  864    9]\n",
            " [  11    8    1    8   27    7    0   24    7  916]], shape=(10, 10), dtype=int32)\n"
          ],
          "name": "stdout"
        }
      ]
    },
    {
      "cell_type": "code",
      "metadata": {
        "colab": {
          "base_uri": "https://localhost:8080/",
          "height": 459
        },
        "id": "L0DHOgNgMitf",
        "outputId": "c2abc0fe-9e91-4aef-e2ad-992322de245c"
      },
      "source": [
        "#showing the truth ratio using heatmap\n",
        "import seaborn as sn\n",
        "plt.figure(figsize = (10,7))\n",
        "sn.heatmap(confm, annot=True, fmt='d')\n",
        "plt.xlabel('Predicted')\n",
        "plt.ylabel('Truth')"
      ],
      "execution_count": 18,
      "outputs": [
        {
          "output_type": "execute_result",
          "data": {
            "text/plain": [
              "Text(69.0, 0.5, 'Truth')"
            ]
          },
          "metadata": {
            "tags": []
          },
          "execution_count": 18
        },
        {
          "output_type": "display_data",
          "data": {
            "image/png": "[encoded data removed]",
            "text/plain": [
              "<Figure size 720x504 with 2 Axes>"
            ]
          },
          "metadata": {
            "tags": [],
            "needs_background": "light"
          }
        }
      ]
    },
    {
      "cell_type": "code",
      "metadata": {
        "id": "QKNn5rLCNbYF"
      },
      "source": [
        "#completed"
      ],
      "execution_count": null,
      "outputs": []
    }
  ]
}